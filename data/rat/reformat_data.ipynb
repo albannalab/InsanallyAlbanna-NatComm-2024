{
 "cells": [
  {
   "cell_type": "code",
   "execution_count": 66,
   "metadata": {},
   "outputs": [],
   "source": [
    "import h5py\n",
    "import numpy\n",
    "\n",
    "\n",
    "def extract_spikes(hd5_file, neuron_num=0):\n",
    "    \"\"\"Extracts the spiking data from the hdf5 file. Returns an array of\n",
    "    spike times.\n",
    "\n",
    "    Keyword arguments:\n",
    "    neuron_num -- the index of the neuron you would like to access.\n",
    "    \"\"\"\n",
    "    with h5py.File(hd5_file, \"r+\") as f:\n",
    "        neuron_list = f['NF']['value']['neurons']['value']\n",
    "        if len(neuron_list) <= 10:\n",
    "            neuron_str = \"_\" + str(neuron_num)\n",
    "        else:\n",
    "            neuron_str = \"_\" + \"0\" * (2 - len(str(neuron_num))) + str(neuron_num)\n",
    "        timestamps = numpy.array(neuron_list[neuron_str]['value']['timestamps']['value'][0])\n",
    "    return(timestamps)\n",
    "\n",
    "\n",
    "def extract_events(hd5_file):\n",
    "    \"\"\"Extracts the timestamps of the events stored in the hdf5 file.\"\"\"\n",
    "    events = {}\n",
    "    with h5py.File(hd5_file, \"r+\") as f:\n",
    "        event_list = f['NF']['value']['events']['value']\n",
    "        for key in event_list.keys():\n",
    "            if key == 'dims':\n",
    "                continue\n",
    "            name = event_list[key]['value']['name']['value']\n",
    "            # The hdf5 that results file contains the names not as strings\n",
    "            # but as an array of integers which code for the string in\n",
    "            # ASCII format.\n",
    "            name_str = ''.join(map(chr, name))\n",
    "            try:\n",
    "                timestamps = numpy.array(event_list[key]['value']['timestamps']['value'][0])\n",
    "            except:\n",
    "                timestamps = numpy.array([], dtype='float64')\n",
    "            events[name_str] = timestamps\n",
    "    return(events)\n",
    "\n",
    "\n",
    "def convert_data(new_file_name, spikes_file, neuron_num, events_file, conversion_table):\n",
    "    spikes = extract_spikes(spikes_file, neuron_num=neuron_num)\n",
    "    events = extract_events(events_file)\n",
    "    animal_data = {new_k: events[k] for new_k, k in conversion_table.items() if k in events.keys()}\n",
    "    animal_data['spikes'] = spikes\n",
    "\n",
    "    with h5py.File(new_file_name + \".hd5\", \"w\") as h5_file:\n",
    "        for name, data in animal_data.items():\n",
    "            print(name)\n",
    "            h5_file.create_dataset(str(name), data=data)\n",
    "\n",
    "    \n",
    "VAR_DEFAULT_NEW_P5 = {'T': 'target', 'F' : 'foils', 'T+' : 'correct_target', 'F+': 'correct_rejects', 'NPT': 'npt', 'NPF': 'npf', .5 : 'DIO_00032', 1 : 'DIO_02048', 2 : 'DIO_04096', 4 : 'DIO_16384', 8 : 'DIO_00001', 16 : 'target', 32 : 'DIO_32768'}\n",
    "\n",
    "VAR_AC_08282013 = {'F' : 'Foil', 'T' : 'Target', 'T+': 'correct_target', 'T-' : \"incorrect_target\", 'NPT' : 'Hits'}\n",
    "\n",
    "VAR_DEFAULT_NEW = {'T': 'target', 'F' : 'foils', 'T+' : 'correct_target', 'F+': 'correct_rejects', 'NPT': 'npt', 'NPF': 'npf', .5 : 'DIO_00032', 1 : 'DIO_02048', 2 : 'DIO_04096', 4 : 'target', 8 : 'DIO_00001', 16 : 'DIO_16384', 32 : 'DIO_32768'}\n"
   ]
  },
  {
   "cell_type": "code",
   "execution_count": 57,
   "metadata": {},
   "outputs": [
    {
     "name": "stdout",
     "output_type": "stream",
     "text": [
      "T\n",
      "F\n",
      "T+\n",
      "F+\n",
      "NPT\n",
      "NPF\n",
      "0.5\n",
      "1\n",
      "2\n",
      "4\n",
      "8\n",
      "16\n",
      "32\n",
      "spikes\n"
     ]
    }
   ],
   "source": [
    "convert_data(\"CR_AC_02272014_0\", \"Feb272013_003_P5_filtCentr001-02.hd5\", 0, \"feb 27003.hd5\", VAR_DEFAULT_NEW_P5)\n",
    "\n"
   ]
  },
  {
   "cell_type": "code",
   "execution_count": 67,
   "metadata": {},
   "outputs": [
    {
     "name": "stdout",
     "output_type": "stream",
     "text": [
      "T\n",
      "F\n",
      "T+\n",
      "F+\n",
      "NPT\n",
      "NPF\n",
      "4\n",
      "spikes\n"
     ]
    }
   ],
   "source": [
    "convert_data(\"NCR_AC_08282013_3\", \"./08282013_beh004threshCentrOF-01_neuron&events.hd5\", 3, \"./08282013_behavior004.hd5\", VAR_DEFAULT_NEW)\n",
    "\n"
   ]
  },
  {
   "cell_type": "code",
   "execution_count": 68,
   "metadata": {},
   "outputs": [
    {
     "name": "stdout",
     "output_type": "stream",
     "text": [
      "T\n",
      "F\n",
      "T+\n",
      "F+\n",
      "NPT\n",
      "NPF\n",
      "1\n",
      "2\n",
      "4\n",
      "16\n",
      "32\n",
      "spikes\n"
     ]
    }
   ],
   "source": [
    "convert_data(\"CR-AC_09192013_8\", \"./sept 19001-resort.hd5\", 8, \"./sept 19001.hd5\", VAR_DEFAULT_NEW)\n",
    "\n"
   ]
  },
  {
   "cell_type": "code",
   "execution_count": null,
   "metadata": {},
   "outputs": [],
   "source": []
  }
 ],
 "metadata": {
  "interpreter": {
   "hash": "5b7dbb14f6d4c769fa75d6f217ce3fa7b49518a482985899b4c209bdabda3e79"
  },
  "kernelspec": {
   "display_name": "Python 3.7.10 ('RNN')",
   "language": "python",
   "name": "python3"
  },
  "language_info": {
   "codemirror_mode": {
    "name": "ipython",
    "version": 3
   },
   "file_extension": ".py",
   "mimetype": "text/x-python",
   "name": "python",
   "nbconvert_exporter": "python",
   "pygments_lexer": "ipython3",
   "version": "3.7.10"
  },
  "orig_nbformat": 4
 },
 "nbformat": 4,
 "nbformat_minor": 2
}
